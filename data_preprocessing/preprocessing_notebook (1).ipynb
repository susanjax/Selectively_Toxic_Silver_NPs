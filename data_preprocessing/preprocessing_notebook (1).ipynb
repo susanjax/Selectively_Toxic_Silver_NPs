
import pandas as pd

# Load the dataset
df = pd.read_csv('validated_data_merged_tax.xlsx - Sheet1.csv')

# Calculate the percentage of missing values for each column
missing_percentage = df.isnull().sum() / len(df) * 100

# Drop columns with more than 50% missing values
cols_to_drop = missing_percentage[missing_percentage > 50].index.tolist()
df_preprocessed = df.drop(columns=cols_to_drop)

# Impute numerical columns with the median
numerical_cols = df_preprocessed.select_dtypes(include=['int64', 'float64']).columns
for col in numerical_cols:
    if df_preprocessed[col].isnull().any():
        median_val = df_preprocessed[col].median()
        df_preprocessed[col].fillna(median_val, inplace=True)

# Impute categorical columns with the mode
categorical_cols = df_preprocessed.select_dtypes(include='object').columns
for col in categorical_cols:
    if df_preprocessed[col].isnull().any():
        mode_val = df_preprocessed[col].mode()[0]
        df_preprocessed[col].fillna(mode_val, inplace=True)

# Drop duplicate rows
df_preprocessed.drop_duplicates(inplace=True)

# Save the preprocessed data to a new CSV file
df_preprocessed.to_csv('preprocessed_data.csv', index=False)

print("Data preprocessing complete. Preprocessed data saved to 'preprocessed_data.csv'.")
